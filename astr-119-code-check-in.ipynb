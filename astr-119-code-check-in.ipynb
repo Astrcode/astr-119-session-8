{
 "cells": [
  {
   "cell_type": "code",
   "execution_count": 1,
   "id": "7c9fdcac",
   "metadata": {},
   "outputs": [],
   "source": [
    "import numpy as np\n",
    "import matplotlib.pyplot as plt"
   ]
  },
  {
   "cell_type": "code",
   "execution_count": null,
   "id": "8c61e114",
   "metadata": {},
   "outputs": [],
   "source": [
    "i = 0 \n",
    "x = 119\n",
    "\n",
    "while(i<x)\n",
    "    print(i)\n",
    "    if(x% = 0)\n",
    "        i += 3\n",
    "    else\n",
    "        i -= 5\n",
    "\n",
    "print(x)"
   ]
  }
 ],
 "metadata": {
  "kernelspec": {
   "display_name": "Python 3 (ipykernel)",
   "language": "python",
   "name": "python3"
  },
  "language_info": {
   "codemirror_mode": {
    "name": "ipython",
    "version": 3
   },
   "file_extension": ".py",
   "mimetype": "text/x-python",
   "name": "python",
   "nbconvert_exporter": "python",
   "pygments_lexer": "ipython3",
   "version": "3.9.7"
  }
 },
 "nbformat": 4,
 "nbformat_minor": 5
}
